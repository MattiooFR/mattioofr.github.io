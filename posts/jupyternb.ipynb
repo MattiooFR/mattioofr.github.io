{
 "cells": [
  {
   "cell_type": "markdown",
   "metadata": {},
   "source": [
    "Write your post here."
   ]
  }
 ],
 "metadata": {
  "kernelspec": {
   "display_name": "Python 3",
   "env": {},
   "interrupt_mode": "signal",
   "language": "python",
   "metadata": {},
   "name": "python3"
  },
  "nikola": {
   "category": "",
   "date": "2020-03-28 16:27:51 UTC+01:00",
   "description": "",
   "link": "",
   "slug": "jupyternb",
   "tags": "",
   "title": "jupyternb",
   "type": "text"
  }
 },
 "nbformat": 4,
 "nbformat_minor": 4
}
